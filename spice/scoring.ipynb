{
 "cells": [
  {
   "cell_type": "code",
   "execution_count": 1,
   "id": "754e5162",
   "metadata": {},
   "outputs": [
    {
     "name": "stdout",
     "output_type": "stream",
     "text": [
      "함수들이 정의되었습니다.\n"
     ]
    }
   ],
   "source": [
    "# 단일음정 유지 능력 평가를 위한 SPICE 기반 코드\n",
    "\n",
    "import tensorflow_hub as hub\n",
    "import tensorflow as tf\n",
    "import numpy as np\n",
    "import librosa\n",
    "import matplotlib.pyplot as plt\n",
    "import os\n",
    "\n",
    "# 1. 오디오 로드\n",
    "def load_audio(filepath, target_sr=16000):\n",
    "    audio, sr = librosa.load(filepath, sr=target_sr)\n",
    "    audio = audio / np.max(np.abs(audio))  # normalize to [-1, 1]\n",
    "    return audio, sr\n",
    "\n",
    "# 2. SPICE 모델 로드 및 피치 예측\n",
    "def estimate_pitch(audio):\n",
    "    # 1. hub에서 링크로 가져오기\n",
    "    model = hub.load(\"https://tfhub.dev/google/spice/2\")\n",
    "    # 2. tensorflow에서 로드하기\n",
    "    # model=tf.saved_model.load('model')\n",
    "    output = model.signatures[\"serving_default\"](tf.constant(audio, tf.float32))\n",
    "    pitch = output[\"pitch\"].numpy().flatten()\n",
    "    confidence = (1 - output[\"uncertainty\"]).numpy().flatten()\n",
    "    return pitch, confidence\n",
    "\n",
    "# 3. 유효한 피치 (confidence >= 0.9)만 필터링\n",
    "def filter_pitch(pitch, confidence, threshold=0.9):\n",
    "    return [p if c >= threshold else 0 for p, c in zip(pitch, confidence)]\n",
    "\n",
    "# 4. 이동 표준편차 계산\n",
    "def moving_std(seq, win=5):\n",
    "    padded = np.pad(seq, (win//2,), mode='edge')\n",
    "    return [np.std(padded[i:i+win]) for i in range(len(seq))]\n",
    "\n",
    "# 5. 단일음정 구간 판별 및 평가\n",
    "def evaluate_pitch_stability(filtered_pitch, std_threshold=1.5, fps=100):\n",
    "    pitch_std = moving_std(filtered_pitch, win=5)\n",
    "    mono_flags = [s < std_threshold and p > 0 for s, p in zip(pitch_std, filtered_pitch)]\n",
    "    mono_duration = sum(mono_flags) / fps  # 초 단위\n",
    "    total_duration = len(filtered_pitch) / fps\n",
    "    stable_ratio = mono_duration / total_duration if total_duration > 0 else 0\n",
    "    return stable_ratio, mono_duration, total_duration, mono_flags\n",
    "\n",
    "# 6. 전체 파이프라인 함수\n",
    "def analyze_pitch_stability(filepath):\n",
    "    audio, sr = load_audio(filepath)\n",
    "    pitch, confidence = estimate_pitch(audio)\n",
    "    filtered_pitch = filter_pitch(pitch, confidence)\n",
    "    stable_ratio, mono_duration, total_duration, mono_flags = evaluate_pitch_stability(filtered_pitch)\n",
    "\n",
    "    print(f\"총 길이: {total_duration:.2f}s\")\n",
    "    print(f\"단일음정 유지 시간: {mono_duration:.2f}s\")\n",
    "    print(f\"안정성 비율: {stable_ratio:.2%}\")\n",
    "\n",
    "    # 시각화\n",
    "    plt.figure(figsize=(12, 4))\n",
    "    plt.plot(filtered_pitch, label='Filtered Pitch (Hz)')\n",
    "    plt.plot(moving_std(filtered_pitch), label='Moving Std')\n",
    "    plt.axhline(y=1.5, color='r', linestyle='--', label='Threshold')\n",
    "    plt.legend()\n",
    "    plt.title(\"Pitch Stability Analysis\")\n",
    "    plt.show()\n",
    "\n",
    "    return stable_ratio\n",
    "\n",
    "print(\"함수들이 정의되었습니다.\")"
   ]
  },
  {
   "cell_type": "code",
   "execution_count": 3,
   "id": "f1b84363",
   "metadata": {},
   "outputs": [
    {
     "name": "stdout",
     "output_type": "stream",
     "text": [
      "파일을 찾았습니다: 0_아/e_1_1.wav\n",
      "WARNING:tensorflow:Unable to create a python object for variable <tf.Variable 'global_step:0' shape=() dtype=int64_ref> because it is a reference variable. It may not be visible to training APIs. If this is a problem, consider rebuilding the SavedModel after running tf.compat.v1.enable_resource_variables().\n"
     ]
    },
    {
     "name": "stderr",
     "output_type": "stream",
     "text": [
      "2025-08-02 04:52:09.348953: I metal_plugin/src/device/metal_device.cc:1154] Metal device set to: Apple M1\n",
      "2025-08-02 04:52:09.349182: I metal_plugin/src/device/metal_device.cc:296] systemMemory: 16.00 GB\n",
      "2025-08-02 04:52:09.349194: I metal_plugin/src/device/metal_device.cc:313] maxCacheSize: 5.33 GB\n",
      "2025-08-02 04:52:09.349888: I tensorflow/core/common_runtime/pluggable_device/pluggable_device_factory.cc:303] Could not identify NUMA node of platform GPU ID 0, defaulting to 0. Your kernel may not have been built with NUMA support.\n",
      "2025-08-02 04:52:09.350303: I tensorflow/core/common_runtime/pluggable_device/pluggable_device_factory.cc:269] Created TensorFlow device (/job:localhost/replica:0/task:0/device:GPU:0 with 0 MB memory) -> physical PluggableDevice (device: 0, name: METAL, pci bus id: <undefined>)\n",
      "WARNING:tensorflow:Unable to create a python object for variable <tf.Variable 'global_step:0' shape=() dtype=int64_ref> because it is a reference variable. It may not be visible to training APIs. If this is a problem, consider rebuilding the SavedModel after running tf.compat.v1.enable_resource_variables().\n"
     ]
    },
    {
     "name": "stdout",
     "output_type": "stream",
     "text": [
      "WARNING:tensorflow:Unable to create a python object for variable <tf.Variable 'encoder/conv2d/kernel:0' shape=(1, 3, 1, 64) dtype=float32_ref> because it is a reference variable. It may not be visible to training APIs. If this is a problem, consider rebuilding the SavedModel after running tf.compat.v1.enable_resource_variables().\n"
     ]
    },
    {
     "name": "stderr",
     "output_type": "stream",
     "text": [
      "WARNING:tensorflow:Unable to create a python object for variable <tf.Variable 'encoder/conv2d/kernel:0' shape=(1, 3, 1, 64) dtype=float32_ref> because it is a reference variable. It may not be visible to training APIs. If this is a problem, consider rebuilding the SavedModel after running tf.compat.v1.enable_resource_variables().\n"
     ]
    },
    {
     "name": "stdout",
     "output_type": "stream",
     "text": [
      "WARNING:tensorflow:Unable to create a python object for variable <tf.Variable 'encoder/batch_normalization/gamma:0' shape=(64,) dtype=float32_ref> because it is a reference variable. It may not be visible to training APIs. If this is a problem, consider rebuilding the SavedModel after running tf.compat.v1.enable_resource_variables().\n"
     ]
    },
    {
     "name": "stderr",
     "output_type": "stream",
     "text": [
      "WARNING:tensorflow:Unable to create a python object for variable <tf.Variable 'encoder/batch_normalization/gamma:0' shape=(64,) dtype=float32_ref> because it is a reference variable. It may not be visible to training APIs. If this is a problem, consider rebuilding the SavedModel after running tf.compat.v1.enable_resource_variables().\n"
     ]
    },
    {
     "name": "stdout",
     "output_type": "stream",
     "text": [
      "WARNING:tensorflow:Unable to create a python object for variable <tf.Variable 'encoder/batch_normalization/beta:0' shape=(64,) dtype=float32_ref> because it is a reference variable. It may not be visible to training APIs. If this is a problem, consider rebuilding the SavedModel after running tf.compat.v1.enable_resource_variables().\n"
     ]
    },
    {
     "name": "stderr",
     "output_type": "stream",
     "text": [
      "WARNING:tensorflow:Unable to create a python object for variable <tf.Variable 'encoder/batch_normalization/beta:0' shape=(64,) dtype=float32_ref> because it is a reference variable. It may not be visible to training APIs. If this is a problem, consider rebuilding the SavedModel after running tf.compat.v1.enable_resource_variables().\n"
     ]
    },
    {
     "name": "stdout",
     "output_type": "stream",
     "text": [
      "WARNING:tensorflow:Unable to create a python object for variable <tf.Variable 'encoder/batch_normalization/moving_mean:0' shape=(64,) dtype=float32_ref> because it is a reference variable. It may not be visible to training APIs. If this is a problem, consider rebuilding the SavedModel after running tf.compat.v1.enable_resource_variables().\n"
     ]
    },
    {
     "name": "stderr",
     "output_type": "stream",
     "text": [
      "WARNING:tensorflow:Unable to create a python object for variable <tf.Variable 'encoder/batch_normalization/moving_mean:0' shape=(64,) dtype=float32_ref> because it is a reference variable. It may not be visible to training APIs. If this is a problem, consider rebuilding the SavedModel after running tf.compat.v1.enable_resource_variables().\n"
     ]
    },
    {
     "name": "stdout",
     "output_type": "stream",
     "text": [
      "WARNING:tensorflow:Unable to create a python object for variable <tf.Variable 'global_step:0' shape=() dtype=int64_ref> because it is a reference variable. It may not be visible to training APIs. If this is a problem, consider rebuilding the SavedModel after running tf.compat.v1.enable_resource_variables().\n"
     ]
    },
    {
     "name": "stderr",
     "output_type": "stream",
     "text": [
      "WARNING:tensorflow:Unable to create a python object for variable <tf.Variable 'global_step:0' shape=() dtype=int64_ref> because it is a reference variable. It may not be visible to training APIs. If this is a problem, consider rebuilding the SavedModel after running tf.compat.v1.enable_resource_variables().\n"
     ]
    },
    {
     "name": "stdout",
     "output_type": "stream",
     "text": [
      "WARNING:tensorflow:Unable to create a python object for variable <tf.Variable 'encoder/conv2d/kernel:0' shape=(1, 3, 1, 64) dtype=float32_ref> because it is a reference variable. It may not be visible to training APIs. If this is a problem, consider rebuilding the SavedModel after running tf.compat.v1.enable_resource_variables().\n"
     ]
    },
    {
     "name": "stderr",
     "output_type": "stream",
     "text": [
      "WARNING:tensorflow:Unable to create a python object for variable <tf.Variable 'encoder/conv2d/kernel:0' shape=(1, 3, 1, 64) dtype=float32_ref> because it is a reference variable. It may not be visible to training APIs. If this is a problem, consider rebuilding the SavedModel after running tf.compat.v1.enable_resource_variables().\n"
     ]
    },
    {
     "name": "stdout",
     "output_type": "stream",
     "text": [
      "WARNING:tensorflow:Unable to create a python object for variable <tf.Variable 'encoder/batch_normalization/gamma:0' shape=(64,) dtype=float32_ref> because it is a reference variable. It may not be visible to training APIs. If this is a problem, consider rebuilding the SavedModel after running tf.compat.v1.enable_resource_variables().\n"
     ]
    },
    {
     "name": "stderr",
     "output_type": "stream",
     "text": [
      "WARNING:tensorflow:Unable to create a python object for variable <tf.Variable 'encoder/batch_normalization/gamma:0' shape=(64,) dtype=float32_ref> because it is a reference variable. It may not be visible to training APIs. If this is a problem, consider rebuilding the SavedModel after running tf.compat.v1.enable_resource_variables().\n"
     ]
    },
    {
     "name": "stdout",
     "output_type": "stream",
     "text": [
      "WARNING:tensorflow:Unable to create a python object for variable <tf.Variable 'encoder/batch_normalization/beta:0' shape=(64,) dtype=float32_ref> because it is a reference variable. It may not be visible to training APIs. If this is a problem, consider rebuilding the SavedModel after running tf.compat.v1.enable_resource_variables().\n"
     ]
    },
    {
     "name": "stderr",
     "output_type": "stream",
     "text": [
      "WARNING:tensorflow:Unable to create a python object for variable <tf.Variable 'encoder/batch_normalization/beta:0' shape=(64,) dtype=float32_ref> because it is a reference variable. It may not be visible to training APIs. If this is a problem, consider rebuilding the SavedModel after running tf.compat.v1.enable_resource_variables().\n"
     ]
    },
    {
     "name": "stdout",
     "output_type": "stream",
     "text": [
      "WARNING:tensorflow:Unable to create a python object for variable <tf.Variable 'encoder/batch_normalization/moving_mean:0' shape=(64,) dtype=float32_ref> because it is a reference variable. It may not be visible to training APIs. If this is a problem, consider rebuilding the SavedModel after running tf.compat.v1.enable_resource_variables().\n"
     ]
    },
    {
     "name": "stderr",
     "output_type": "stream",
     "text": [
      "WARNING:tensorflow:Unable to create a python object for variable <tf.Variable 'encoder/batch_normalization/moving_mean:0' shape=(64,) dtype=float32_ref> because it is a reference variable. It may not be visible to training APIs. If this is a problem, consider rebuilding the SavedModel after running tf.compat.v1.enable_resource_variables().\n"
     ]
    },
    {
     "name": "stdout",
     "output_type": "stream",
     "text": [
      "WARNING:tensorflow:Unable to create a python object for variable <tf.Variable 'global_step:0' shape=() dtype=int64_ref> because it is a reference variable. It may not be visible to training APIs. If this is a problem, consider rebuilding the SavedModel after running tf.compat.v1.enable_resource_variables().\n"
     ]
    },
    {
     "name": "stderr",
     "output_type": "stream",
     "text": [
      "2025-08-02 04:52:09.431687: I tensorflow/core/grappler/optimizers/custom_graph_optimizer_registry.cc:114] Plugin optimizer for device_type GPU is enabled.\n",
      "WARNING:tensorflow:Unable to create a python object for variable <tf.Variable 'global_step:0' shape=() dtype=int64_ref> because it is a reference variable. It may not be visible to training APIs. If this is a problem, consider rebuilding the SavedModel after running tf.compat.v1.enable_resource_variables().\n"
     ]
    },
    {
     "name": "stdout",
     "output_type": "stream",
     "text": [
      "WARNING:tensorflow:Unable to create a python object for variable <tf.Variable 'encoder/conv2d/kernel:0' shape=(1, 3, 1, 64) dtype=float32_ref> because it is a reference variable. It may not be visible to training APIs. If this is a problem, consider rebuilding the SavedModel after running tf.compat.v1.enable_resource_variables().\n"
     ]
    },
    {
     "name": "stderr",
     "output_type": "stream",
     "text": [
      "WARNING:tensorflow:Unable to create a python object for variable <tf.Variable 'encoder/conv2d/kernel:0' shape=(1, 3, 1, 64) dtype=float32_ref> because it is a reference variable. It may not be visible to training APIs. If this is a problem, consider rebuilding the SavedModel after running tf.compat.v1.enable_resource_variables().\n"
     ]
    },
    {
     "name": "stdout",
     "output_type": "stream",
     "text": [
      "WARNING:tensorflow:Unable to create a python object for variable <tf.Variable 'encoder/batch_normalization/gamma:0' shape=(64,) dtype=float32_ref> because it is a reference variable. It may not be visible to training APIs. If this is a problem, consider rebuilding the SavedModel after running tf.compat.v1.enable_resource_variables().\n"
     ]
    },
    {
     "name": "stderr",
     "output_type": "stream",
     "text": [
      "WARNING:tensorflow:Unable to create a python object for variable <tf.Variable 'encoder/batch_normalization/gamma:0' shape=(64,) dtype=float32_ref> because it is a reference variable. It may not be visible to training APIs. If this is a problem, consider rebuilding the SavedModel after running tf.compat.v1.enable_resource_variables().\n"
     ]
    },
    {
     "name": "stdout",
     "output_type": "stream",
     "text": [
      "WARNING:tensorflow:Unable to create a python object for variable <tf.Variable 'encoder/batch_normalization/beta:0' shape=(64,) dtype=float32_ref> because it is a reference variable. It may not be visible to training APIs. If this is a problem, consider rebuilding the SavedModel after running tf.compat.v1.enable_resource_variables().\n"
     ]
    },
    {
     "name": "stderr",
     "output_type": "stream",
     "text": [
      "WARNING:tensorflow:Unable to create a python object for variable <tf.Variable 'encoder/batch_normalization/beta:0' shape=(64,) dtype=float32_ref> because it is a reference variable. It may not be visible to training APIs. If this is a problem, consider rebuilding the SavedModel after running tf.compat.v1.enable_resource_variables().\n"
     ]
    },
    {
     "name": "stdout",
     "output_type": "stream",
     "text": [
      "WARNING:tensorflow:Unable to create a python object for variable <tf.Variable 'encoder/batch_normalization/moving_mean:0' shape=(64,) dtype=float32_ref> because it is a reference variable. It may not be visible to training APIs. If this is a problem, consider rebuilding the SavedModel after running tf.compat.v1.enable_resource_variables().\n"
     ]
    },
    {
     "name": "stderr",
     "output_type": "stream",
     "text": [
      "WARNING:tensorflow:Unable to create a python object for variable <tf.Variable 'encoder/batch_normalization/moving_mean:0' shape=(64,) dtype=float32_ref> because it is a reference variable. It may not be visible to training APIs. If this is a problem, consider rebuilding the SavedModel after running tf.compat.v1.enable_resource_variables().\n",
      "2025-08-02 04:52:09.504358: I tensorflow/core/grappler/optimizers/custom_graph_optimizer_registry.cc:114] Plugin optimizer for device_type GPU is enabled.\n"
     ]
    },
    {
     "name": "stdout",
     "output_type": "stream",
     "text": [
      "WARNING:tensorflow:Unable to create a python object for variable <tf.Variable 'global_step:0' shape=() dtype=int64_ref> because it is a reference variable. It may not be visible to training APIs. If this is a problem, consider rebuilding the SavedModel after running tf.compat.v1.enable_resource_variables().\n"
     ]
    },
    {
     "name": "stderr",
     "output_type": "stream",
     "text": [
      "WARNING:tensorflow:Unable to create a python object for variable <tf.Variable 'global_step:0' shape=() dtype=int64_ref> because it is a reference variable. It may not be visible to training APIs. If this is a problem, consider rebuilding the SavedModel after running tf.compat.v1.enable_resource_variables().\n"
     ]
    },
    {
     "name": "stdout",
     "output_type": "stream",
     "text": [
      "WARNING:tensorflow:Unable to create a python object for variable <tf.Variable 'encoder/conv2d/kernel:0' shape=(1, 3, 1, 64) dtype=float32_ref> because it is a reference variable. It may not be visible to training APIs. If this is a problem, consider rebuilding the SavedModel after running tf.compat.v1.enable_resource_variables().\n"
     ]
    },
    {
     "name": "stderr",
     "output_type": "stream",
     "text": [
      "WARNING:tensorflow:Unable to create a python object for variable <tf.Variable 'encoder/conv2d/kernel:0' shape=(1, 3, 1, 64) dtype=float32_ref> because it is a reference variable. It may not be visible to training APIs. If this is a problem, consider rebuilding the SavedModel after running tf.compat.v1.enable_resource_variables().\n"
     ]
    },
    {
     "name": "stdout",
     "output_type": "stream",
     "text": [
      "WARNING:tensorflow:Unable to create a python object for variable <tf.Variable 'encoder/batch_normalization/gamma:0' shape=(64,) dtype=float32_ref> because it is a reference variable. It may not be visible to training APIs. If this is a problem, consider rebuilding the SavedModel after running tf.compat.v1.enable_resource_variables().\n"
     ]
    },
    {
     "name": "stderr",
     "output_type": "stream",
     "text": [
      "WARNING:tensorflow:Unable to create a python object for variable <tf.Variable 'encoder/batch_normalization/gamma:0' shape=(64,) dtype=float32_ref> because it is a reference variable. It may not be visible to training APIs. If this is a problem, consider rebuilding the SavedModel after running tf.compat.v1.enable_resource_variables().\n"
     ]
    },
    {
     "name": "stdout",
     "output_type": "stream",
     "text": [
      "WARNING:tensorflow:Unable to create a python object for variable <tf.Variable 'encoder/batch_normalization/beta:0' shape=(64,) dtype=float32_ref> because it is a reference variable. It may not be visible to training APIs. If this is a problem, consider rebuilding the SavedModel after running tf.compat.v1.enable_resource_variables().\n"
     ]
    },
    {
     "name": "stderr",
     "output_type": "stream",
     "text": [
      "WARNING:tensorflow:Unable to create a python object for variable <tf.Variable 'encoder/batch_normalization/beta:0' shape=(64,) dtype=float32_ref> because it is a reference variable. It may not be visible to training APIs. If this is a problem, consider rebuilding the SavedModel after running tf.compat.v1.enable_resource_variables().\n"
     ]
    },
    {
     "name": "stdout",
     "output_type": "stream",
     "text": [
      "WARNING:tensorflow:Unable to create a python object for variable <tf.Variable 'encoder/batch_normalization/moving_mean:0' shape=(64,) dtype=float32_ref> because it is a reference variable. It may not be visible to training APIs. If this is a problem, consider rebuilding the SavedModel after running tf.compat.v1.enable_resource_variables().\n"
     ]
    },
    {
     "name": "stderr",
     "output_type": "stream",
     "text": [
      "WARNING:tensorflow:Unable to create a python object for variable <tf.Variable 'encoder/batch_normalization/moving_mean:0' shape=(64,) dtype=float32_ref> because it is a reference variable. It may not be visible to training APIs. If this is a problem, consider rebuilding the SavedModel after running tf.compat.v1.enable_resource_variables().\n",
      "2025-08-02 04:52:09.700190: I tensorflow/core/grappler/optimizers/custom_graph_optimizer_registry.cc:114] Plugin optimizer for device_type GPU is enabled.\n",
      "2025-08-02 04:52:09.837174: I tensorflow/core/framework/local_rendezvous.cc:405] Local rendezvous recv item cancelled. Key hash: 5791708144260403484\n",
      "2025-08-02 04:52:09.837187: I tensorflow/core/framework/local_rendezvous.cc:405] Local rendezvous recv item cancelled. Key hash: 3466542408690556931\n",
      "2025-08-02 04:52:09.837190: I tensorflow/core/framework/local_rendezvous.cc:405] Local rendezvous recv item cancelled. Key hash: 8873224018497675573\n",
      "2025-08-02 04:52:09.837194: I tensorflow/core/framework/local_rendezvous.cc:405] Local rendezvous recv item cancelled. Key hash: 13750489192917500577\n",
      "2025-08-02 04:52:09.837197: I tensorflow/core/framework/local_rendezvous.cc:405] Local rendezvous recv item cancelled. Key hash: 8255454483872547017\n",
      "2025-08-02 04:52:09.837200: I tensorflow/core/framework/local_rendezvous.cc:405] Local rendezvous recv item cancelled. Key hash: 3893738786789451021\n",
      "2025-08-02 04:52:09.837204: I tensorflow/core/framework/local_rendezvous.cc:405] Local rendezvous recv item cancelled. Key hash: 15791214171848377887\n",
      "2025-08-02 04:52:09.837208: I tensorflow/core/framework/local_rendezvous.cc:405] Local rendezvous recv item cancelled. Key hash: 636544416378578489\n",
      "2025-08-02 04:52:09.837213: I tensorflow/core/framework/local_rendezvous.cc:405] Local rendezvous recv item cancelled. Key hash: 8754936622047677295\n",
      "2025-08-02 04:52:09.837215: I tensorflow/core/framework/local_rendezvous.cc:405] Local rendezvous recv item cancelled. Key hash: 2738979464260234127\n",
      "2025-08-02 04:52:09.837219: I tensorflow/core/framework/local_rendezvous.cc:405] Local rendezvous recv item cancelled. Key hash: 11171930005001653629\n",
      "2025-08-02 04:52:09.837221: I tensorflow/core/framework/local_rendezvous.cc:405] Local rendezvous recv item cancelled. Key hash: 17735253299805211669\n",
      "2025-08-02 04:52:09.837226: I tensorflow/core/framework/local_rendezvous.cc:405] Local rendezvous recv item cancelled. Key hash: 14310708990880092215\n",
      "2025-08-02 04:52:09.837231: I tensorflow/core/framework/local_rendezvous.cc:405] Local rendezvous recv item cancelled. Key hash: 5438997851761955949\n",
      "2025-08-02 04:52:09.837234: I tensorflow/core/framework/local_rendezvous.cc:405] Local rendezvous recv item cancelled. Key hash: 5601077869447853633\n",
      "2025-08-02 04:52:09.837239: I tensorflow/core/framework/local_rendezvous.cc:405] Local rendezvous recv item cancelled. Key hash: 3586331672860375925\n",
      "2025-08-02 04:52:09.837244: I tensorflow/core/framework/local_rendezvous.cc:405] Local rendezvous recv item cancelled. Key hash: 9249684459015756943\n",
      "2025-08-02 04:52:09.837248: I tensorflow/core/framework/local_rendezvous.cc:405] Local rendezvous recv item cancelled. Key hash: 13349316146202139711\n",
      "2025-08-02 04:52:09.837252: I tensorflow/core/framework/local_rendezvous.cc:405] Local rendezvous recv item cancelled. Key hash: 14135652078616461019\n",
      "2025-08-02 04:52:09.837256: I tensorflow/core/framework/local_rendezvous.cc:405] Local rendezvous recv item cancelled. Key hash: 16518675409282629445\n",
      "2025-08-02 04:52:09.837444: I tensorflow/core/framework/local_rendezvous.cc:405] Local rendezvous recv item cancelled. Key hash: 4848086215015293322\n",
      "2025-08-02 04:52:09.837451: I tensorflow/core/framework/local_rendezvous.cc:405] Local rendezvous recv item cancelled. Key hash: 3632875672948146718\n",
      "2025-08-02 04:52:09.837456: I tensorflow/core/framework/local_rendezvous.cc:405] Local rendezvous recv item cancelled. Key hash: 8381939582940463938\n",
      "2025-08-02 04:52:09.837460: I tensorflow/core/framework/local_rendezvous.cc:405] Local rendezvous recv item cancelled. Key hash: 14994438429610050656\n",
      "2025-08-02 04:52:09.837463: I tensorflow/core/framework/local_rendezvous.cc:405] Local rendezvous recv item cancelled. Key hash: 16127029367424656620\n",
      "2025-08-02 04:52:09.837467: I tensorflow/core/framework/local_rendezvous.cc:405] Local rendezvous recv item cancelled. Key hash: 3582205735998427544\n",
      "2025-08-02 04:52:09.837469: I tensorflow/core/framework/local_rendezvous.cc:405] Local rendezvous recv item cancelled. Key hash: 12409435769926985680\n",
      "2025-08-02 04:52:09.837475: I tensorflow/core/framework/local_rendezvous.cc:405] Local rendezvous recv item cancelled. Key hash: 3523531404429870076\n",
      "2025-08-02 04:52:09.837479: I tensorflow/core/framework/local_rendezvous.cc:405] Local rendezvous recv item cancelled. Key hash: 16493092878160989208\n",
      "2025-08-02 04:52:09.837481: I tensorflow/core/framework/local_rendezvous.cc:405] Local rendezvous recv item cancelled. Key hash: 7156329412780404626\n",
      "2025-08-02 04:52:09.837484: I tensorflow/core/framework/local_rendezvous.cc:405] Local rendezvous recv item cancelled. Key hash: 5342380349556945024\n",
      "2025-08-02 04:52:09.837487: I tensorflow/core/framework/local_rendezvous.cc:405] Local rendezvous recv item cancelled. Key hash: 7734427389062926662\n",
      "2025-08-02 04:52:09.837491: I tensorflow/core/framework/local_rendezvous.cc:405] Local rendezvous recv item cancelled. Key hash: 10062102166837760578\n",
      "2025-08-02 04:52:09.837494: I tensorflow/core/framework/local_rendezvous.cc:405] Local rendezvous recv item cancelled. Key hash: 13804835292113694918\n",
      "2025-08-02 04:52:09.837498: I tensorflow/core/framework/local_rendezvous.cc:405] Local rendezvous recv item cancelled. Key hash: 13360503823473595506\n",
      "2025-08-02 04:52:09.837501: I tensorflow/core/framework/local_rendezvous.cc:405] Local rendezvous recv item cancelled. Key hash: 4840753383353578800\n",
      "2025-08-02 04:52:09.837504: I tensorflow/core/framework/local_rendezvous.cc:405] Local rendezvous recv item cancelled. Key hash: 12817451877304906708\n",
      "2025-08-02 04:52:09.837507: I tensorflow/core/framework/local_rendezvous.cc:405] Local rendezvous recv item cancelled. Key hash: 2234406998182744478\n",
      "2025-08-02 04:52:09.837511: I tensorflow/core/framework/local_rendezvous.cc:405] Local rendezvous recv item cancelled. Key hash: 2240367274626783318\n",
      "2025-08-02 04:52:09.837514: I tensorflow/core/framework/local_rendezvous.cc:405] Local rendezvous recv item cancelled. Key hash: 3509532162651838522\n",
      "2025-08-02 04:52:09.837517: I tensorflow/core/framework/local_rendezvous.cc:405] Local rendezvous recv item cancelled. Key hash: 10283216106095859630\n",
      "2025-08-02 04:52:09.837521: I tensorflow/core/framework/local_rendezvous.cc:405] Local rendezvous recv item cancelled. Key hash: 3867642132562729942\n",
      "2025-08-02 04:52:09.837524: I tensorflow/core/framework/local_rendezvous.cc:405] Local rendezvous recv item cancelled. Key hash: 12743597964909665482\n",
      "2025-08-02 04:52:09.837533: I tensorflow/core/framework/local_rendezvous.cc:405] Local rendezvous recv item cancelled. Key hash: 16296022138251320830\n"
     ]
    },
    {
     "ename": "FailedPreconditionError",
     "evalue": "Graph execution error:\n\nDetected at node 'encoder/dense/bias/read' defined at (most recent call last):\n    File \"/Users/kimberlyjojohirn/opt/anaconda3/envs/SeSAC/lib/python3.9/runpy.py\", line 197, in _run_module_as_main\n      return _run_code(code, main_globals, None,\n    File \"/Users/kimberlyjojohirn/opt/anaconda3/envs/SeSAC/lib/python3.9/runpy.py\", line 87, in _run_code\n      exec(code, run_globals)\n    File \"/Users/kimberlyjojohirn/opt/anaconda3/envs/SeSAC/lib/python3.9/site-packages/ipykernel_launcher.py\", line 18, in <module>\n      app.launch_new_instance()\n    File \"/Users/kimberlyjojohirn/opt/anaconda3/envs/SeSAC/lib/python3.9/site-packages/traitlets/config/application.py\", line 1075, in launch_instance\n      app.start()\n    File \"/Users/kimberlyjojohirn/opt/anaconda3/envs/SeSAC/lib/python3.9/site-packages/ipykernel/kernelapp.py\", line 739, in start\n      self.io_loop.start()\n    File \"/Users/kimberlyjojohirn/opt/anaconda3/envs/SeSAC/lib/python3.9/site-packages/tornado/platform/asyncio.py\", line 211, in start\n      self.asyncio_loop.run_forever()\n    File \"/Users/kimberlyjojohirn/opt/anaconda3/envs/SeSAC/lib/python3.9/asyncio/base_events.py\", line 601, in run_forever\n      self._run_once()\n    File \"/Users/kimberlyjojohirn/opt/anaconda3/envs/SeSAC/lib/python3.9/asyncio/base_events.py\", line 1905, in _run_once\n      handle._run()\n    File \"/Users/kimberlyjojohirn/opt/anaconda3/envs/SeSAC/lib/python3.9/asyncio/events.py\", line 80, in _run\n      self._context.run(self._callback, *self._args)\n    File \"/Users/kimberlyjojohirn/opt/anaconda3/envs/SeSAC/lib/python3.9/site-packages/ipykernel/kernelbase.py\", line 516, in dispatch_queue\n      await self.process_one()\n    File \"/Users/kimberlyjojohirn/opt/anaconda3/envs/SeSAC/lib/python3.9/site-packages/ipykernel/kernelbase.py\", line 505, in process_one\n      await dispatch(*args)\n    File \"/Users/kimberlyjojohirn/opt/anaconda3/envs/SeSAC/lib/python3.9/site-packages/ipykernel/kernelbase.py\", line 397, in dispatch_shell\n      await result\n    File \"/Users/kimberlyjojohirn/opt/anaconda3/envs/SeSAC/lib/python3.9/site-packages/ipykernel/ipkernel.py\", line 368, in execute_request\n      await super().execute_request(stream, ident, parent)\n    File \"/Users/kimberlyjojohirn/opt/anaconda3/envs/SeSAC/lib/python3.9/site-packages/ipykernel/kernelbase.py\", line 752, in execute_request\n      reply_content = await reply_content\n    File \"/Users/kimberlyjojohirn/opt/anaconda3/envs/SeSAC/lib/python3.9/site-packages/ipykernel/ipkernel.py\", line 455, in do_execute\n      res = shell.run_cell(\n    File \"/Users/kimberlyjojohirn/opt/anaconda3/envs/SeSAC/lib/python3.9/site-packages/ipykernel/zmqshell.py\", line 577, in run_cell\n      return super().run_cell(*args, **kwargs)\n    File \"/Users/kimberlyjojohirn/opt/anaconda3/envs/SeSAC/lib/python3.9/site-packages/IPython/core/interactiveshell.py\", line 3048, in run_cell\n      result = self._run_cell(\n    File \"/Users/kimberlyjojohirn/opt/anaconda3/envs/SeSAC/lib/python3.9/site-packages/IPython/core/interactiveshell.py\", line 3103, in _run_cell\n      result = runner(coro)\n    File \"/Users/kimberlyjojohirn/opt/anaconda3/envs/SeSAC/lib/python3.9/site-packages/IPython/core/async_helpers.py\", line 129, in _pseudo_sync_runner\n      coro.send(None)\n    File \"/Users/kimberlyjojohirn/opt/anaconda3/envs/SeSAC/lib/python3.9/site-packages/IPython/core/interactiveshell.py\", line 3308, in run_cell_async\n      has_raised = await self.run_ast_nodes(code_ast.body, cell_name,\n    File \"/Users/kimberlyjojohirn/opt/anaconda3/envs/SeSAC/lib/python3.9/site-packages/IPython/core/interactiveshell.py\", line 3490, in run_ast_nodes\n      if await self.run_code(code, result, async_=asy):\n    File \"/Users/kimberlyjojohirn/opt/anaconda3/envs/SeSAC/lib/python3.9/site-packages/IPython/core/interactiveshell.py\", line 3550, in run_code\n      exec(code_obj, self.user_global_ns, self.user_ns)\n    File \"/var/folders/g9/2k1291915hxbg8w8ghhmgv3h0000gn/T/ipykernel_73433/201715246.py\", line 8, in <module>\n      result = analyze_pitch_stability(filepath)\n    File \"/var/folders/g9/2k1291915hxbg8w8ghhmgv3h0000gn/T/ipykernel_73433/3437216844.py\", line 48, in analyze_pitch_stability\n      pitch, confidence = estimate_pitch(audio)\n    File \"/var/folders/g9/2k1291915hxbg8w8ghhmgv3h0000gn/T/ipykernel_73433/3437216844.py\", line 19, in estimate_pitch\n      model = hub.load(\"https://tfhub.dev/google/spice/2\")\n    File \"/Users/kimberlyjojohirn/opt/anaconda3/envs/SeSAC/lib/python3.9/site-packages/tensorflow_hub/module_v2.py\", line 120, in load\n      obj = tf.compat.v1.saved_model.load_v2(module_path, tags=tags)\nNode: 'encoder/dense/bias/read'\nDetected at node 'encoder/dense/bias/read' defined at (most recent call last):\n    File \"/Users/kimberlyjojohirn/opt/anaconda3/envs/SeSAC/lib/python3.9/runpy.py\", line 197, in _run_module_as_main\n      return _run_code(code, main_globals, None,\n    File \"/Users/kimberlyjojohirn/opt/anaconda3/envs/SeSAC/lib/python3.9/runpy.py\", line 87, in _run_code\n      exec(code, run_globals)\n    File \"/Users/kimberlyjojohirn/opt/anaconda3/envs/SeSAC/lib/python3.9/site-packages/ipykernel_launcher.py\", line 18, in <module>\n      app.launch_new_instance()\n    File \"/Users/kimberlyjojohirn/opt/anaconda3/envs/SeSAC/lib/python3.9/site-packages/traitlets/config/application.py\", line 1075, in launch_instance\n      app.start()\n    File \"/Users/kimberlyjojohirn/opt/anaconda3/envs/SeSAC/lib/python3.9/site-packages/ipykernel/kernelapp.py\", line 739, in start\n      self.io_loop.start()\n    File \"/Users/kimberlyjojohirn/opt/anaconda3/envs/SeSAC/lib/python3.9/site-packages/tornado/platform/asyncio.py\", line 211, in start\n      self.asyncio_loop.run_forever()\n    File \"/Users/kimberlyjojohirn/opt/anaconda3/envs/SeSAC/lib/python3.9/asyncio/base_events.py\", line 601, in run_forever\n      self._run_once()\n    File \"/Users/kimberlyjojohirn/opt/anaconda3/envs/SeSAC/lib/python3.9/asyncio/base_events.py\", line 1905, in _run_once\n      handle._run()\n    File \"/Users/kimberlyjojohirn/opt/anaconda3/envs/SeSAC/lib/python3.9/asyncio/events.py\", line 80, in _run\n      self._context.run(self._callback, *self._args)\n    File \"/Users/kimberlyjojohirn/opt/anaconda3/envs/SeSAC/lib/python3.9/site-packages/ipykernel/kernelbase.py\", line 516, in dispatch_queue\n      await self.process_one()\n    File \"/Users/kimberlyjojohirn/opt/anaconda3/envs/SeSAC/lib/python3.9/site-packages/ipykernel/kernelbase.py\", line 505, in process_one\n      await dispatch(*args)\n    File \"/Users/kimberlyjojohirn/opt/anaconda3/envs/SeSAC/lib/python3.9/site-packages/ipykernel/kernelbase.py\", line 397, in dispatch_shell\n      await result\n    File \"/Users/kimberlyjojohirn/opt/anaconda3/envs/SeSAC/lib/python3.9/site-packages/ipykernel/ipkernel.py\", line 368, in execute_request\n      await super().execute_request(stream, ident, parent)\n    File \"/Users/kimberlyjojohirn/opt/anaconda3/envs/SeSAC/lib/python3.9/site-packages/ipykernel/kernelbase.py\", line 752, in execute_request\n      reply_content = await reply_content\n    File \"/Users/kimberlyjojohirn/opt/anaconda3/envs/SeSAC/lib/python3.9/site-packages/ipykernel/ipkernel.py\", line 455, in do_execute\n      res = shell.run_cell(\n    File \"/Users/kimberlyjojohirn/opt/anaconda3/envs/SeSAC/lib/python3.9/site-packages/ipykernel/zmqshell.py\", line 577, in run_cell\n      return super().run_cell(*args, **kwargs)\n    File \"/Users/kimberlyjojohirn/opt/anaconda3/envs/SeSAC/lib/python3.9/site-packages/IPython/core/interactiveshell.py\", line 3048, in run_cell\n      result = self._run_cell(\n    File \"/Users/kimberlyjojohirn/opt/anaconda3/envs/SeSAC/lib/python3.9/site-packages/IPython/core/interactiveshell.py\", line 3103, in _run_cell\n      result = runner(coro)\n    File \"/Users/kimberlyjojohirn/opt/anaconda3/envs/SeSAC/lib/python3.9/site-packages/IPython/core/async_helpers.py\", line 129, in _pseudo_sync_runner\n      coro.send(None)\n    File \"/Users/kimberlyjojohirn/opt/anaconda3/envs/SeSAC/lib/python3.9/site-packages/IPython/core/interactiveshell.py\", line 3308, in run_cell_async\n      has_raised = await self.run_ast_nodes(code_ast.body, cell_name,\n    File \"/Users/kimberlyjojohirn/opt/anaconda3/envs/SeSAC/lib/python3.9/site-packages/IPython/core/interactiveshell.py\", line 3490, in run_ast_nodes\n      if await self.run_code(code, result, async_=asy):\n    File \"/Users/kimberlyjojohirn/opt/anaconda3/envs/SeSAC/lib/python3.9/site-packages/IPython/core/interactiveshell.py\", line 3550, in run_code\n      exec(code_obj, self.user_global_ns, self.user_ns)\n    File \"/var/folders/g9/2k1291915hxbg8w8ghhmgv3h0000gn/T/ipykernel_73433/201715246.py\", line 8, in <module>\n      result = analyze_pitch_stability(filepath)\n    File \"/var/folders/g9/2k1291915hxbg8w8ghhmgv3h0000gn/T/ipykernel_73433/3437216844.py\", line 48, in analyze_pitch_stability\n      pitch, confidence = estimate_pitch(audio)\n    File \"/var/folders/g9/2k1291915hxbg8w8ghhmgv3h0000gn/T/ipykernel_73433/3437216844.py\", line 19, in estimate_pitch\n      model = hub.load(\"https://tfhub.dev/google/spice/2\")\n    File \"/Users/kimberlyjojohirn/opt/anaconda3/envs/SeSAC/lib/python3.9/site-packages/tensorflow_hub/module_v2.py\", line 120, in load\n      obj = tf.compat.v1.saved_model.load_v2(module_path, tags=tags)\nNode: 'encoder/dense/bias/read'\n2 root error(s) found.\n  (0) FAILED_PRECONDITION:  Attempting to use uninitialized value encoder/dense/bias\n\t [[{{node encoder/dense/bias/read}}]]\n\t [[stft/frame/Reshape_4/_24]]\n  (1) FAILED_PRECONDITION:  Attempting to use uninitialized value encoder/dense/bias\n\t [[{{node encoder/dense/bias/read}}]]\n0 successful operations.\n0 derived errors ignored. [Op:__inference_pruned_2809]",
     "output_type": "error",
     "traceback": [
      "\u001b[0;31m---------------------------------------------------------------------------\u001b[0m",
      "\u001b[0;31mFailedPreconditionError\u001b[0m                   Traceback (most recent call last)",
      "Cell \u001b[0;32mIn[3], line 8\u001b[0m\n\u001b[1;32m      6\u001b[0m \u001b[38;5;28;01mif\u001b[39;00m os\u001b[38;5;241m.\u001b[39mpath\u001b[38;5;241m.\u001b[39mexists(filepath):\n\u001b[1;32m      7\u001b[0m     \u001b[38;5;28mprint\u001b[39m(\u001b[38;5;124mf\u001b[39m\u001b[38;5;124m\"\u001b[39m\u001b[38;5;124m파일을 찾았습니다: \u001b[39m\u001b[38;5;132;01m{\u001b[39;00mfilepath\u001b[38;5;132;01m}\u001b[39;00m\u001b[38;5;124m\"\u001b[39m)\n\u001b[0;32m----> 8\u001b[0m     result \u001b[38;5;241m=\u001b[39m \u001b[43manalyze_pitch_stability\u001b[49m\u001b[43m(\u001b[49m\u001b[43mfilepath\u001b[49m\u001b[43m)\u001b[49m\n\u001b[1;32m      9\u001b[0m     \u001b[38;5;28mprint\u001b[39m(\u001b[38;5;124mf\u001b[39m\u001b[38;5;124m\"\u001b[39m\u001b[38;5;124m최종 안정성 점수: \u001b[39m\u001b[38;5;132;01m{\u001b[39;00mresult\u001b[38;5;132;01m:\u001b[39;00m\u001b[38;5;124m.2%\u001b[39m\u001b[38;5;132;01m}\u001b[39;00m\u001b[38;5;124m\"\u001b[39m)\n\u001b[1;32m     10\u001b[0m \u001b[38;5;28;01melse\u001b[39;00m:\n",
      "Cell \u001b[0;32mIn[1], line 48\u001b[0m, in \u001b[0;36manalyze_pitch_stability\u001b[0;34m(filepath)\u001b[0m\n\u001b[1;32m     46\u001b[0m \u001b[38;5;28;01mdef\u001b[39;00m\u001b[38;5;250m \u001b[39m\u001b[38;5;21manalyze_pitch_stability\u001b[39m(filepath):\n\u001b[1;32m     47\u001b[0m     audio, sr \u001b[38;5;241m=\u001b[39m load_audio(filepath)\n\u001b[0;32m---> 48\u001b[0m     pitch, confidence \u001b[38;5;241m=\u001b[39m \u001b[43mestimate_pitch\u001b[49m\u001b[43m(\u001b[49m\u001b[43maudio\u001b[49m\u001b[43m)\u001b[49m\n\u001b[1;32m     49\u001b[0m     filtered_pitch \u001b[38;5;241m=\u001b[39m filter_pitch(pitch, confidence)\n\u001b[1;32m     50\u001b[0m     stable_ratio, mono_duration, total_duration, mono_flags \u001b[38;5;241m=\u001b[39m evaluate_pitch_stability(filtered_pitch)\n",
      "Cell \u001b[0;32mIn[1], line 22\u001b[0m, in \u001b[0;36mestimate_pitch\u001b[0;34m(audio)\u001b[0m\n\u001b[1;32m     19\u001b[0m model \u001b[38;5;241m=\u001b[39m hub\u001b[38;5;241m.\u001b[39mload(\u001b[38;5;124m\"\u001b[39m\u001b[38;5;124mhttps://tfhub.dev/google/spice/2\u001b[39m\u001b[38;5;124m\"\u001b[39m)\n\u001b[1;32m     20\u001b[0m \u001b[38;5;66;03m# 2. tensorflow에서 로드하기\u001b[39;00m\n\u001b[1;32m     21\u001b[0m \u001b[38;5;66;03m# model=tf.saved_model.load('model')\u001b[39;00m\n\u001b[0;32m---> 22\u001b[0m output \u001b[38;5;241m=\u001b[39m \u001b[43mmodel\u001b[49m\u001b[38;5;241;43m.\u001b[39;49m\u001b[43msignatures\u001b[49m\u001b[43m[\u001b[49m\u001b[38;5;124;43m\"\u001b[39;49m\u001b[38;5;124;43mserving_default\u001b[39;49m\u001b[38;5;124;43m\"\u001b[39;49m\u001b[43m]\u001b[49m\u001b[43m(\u001b[49m\u001b[43mtf\u001b[49m\u001b[38;5;241;43m.\u001b[39;49m\u001b[43mconstant\u001b[49m\u001b[43m(\u001b[49m\u001b[43maudio\u001b[49m\u001b[43m,\u001b[49m\u001b[43m \u001b[49m\u001b[43mtf\u001b[49m\u001b[38;5;241;43m.\u001b[39;49m\u001b[43mfloat32\u001b[49m\u001b[43m)\u001b[49m\u001b[43m)\u001b[49m\n\u001b[1;32m     23\u001b[0m pitch \u001b[38;5;241m=\u001b[39m output[\u001b[38;5;124m\"\u001b[39m\u001b[38;5;124mpitch\u001b[39m\u001b[38;5;124m\"\u001b[39m]\u001b[38;5;241m.\u001b[39mnumpy()\u001b[38;5;241m.\u001b[39mflatten()\n\u001b[1;32m     24\u001b[0m confidence \u001b[38;5;241m=\u001b[39m (\u001b[38;5;241m1\u001b[39m \u001b[38;5;241m-\u001b[39m output[\u001b[38;5;124m\"\u001b[39m\u001b[38;5;124muncertainty\u001b[39m\u001b[38;5;124m\"\u001b[39m])\u001b[38;5;241m.\u001b[39mnumpy()\u001b[38;5;241m.\u001b[39mflatten()\n",
      "File \u001b[0;32m~/opt/anaconda3/envs/SeSAC/lib/python3.9/site-packages/tensorflow/python/eager/polymorphic_function/monomorphic_function.py:1184\u001b[0m, in \u001b[0;36mConcreteFunction.__call__\u001b[0;34m(self, *args, **kwargs)\u001b[0m\n\u001b[1;32m   1134\u001b[0m \u001b[38;5;28;01mdef\u001b[39;00m\u001b[38;5;250m \u001b[39m\u001b[38;5;21m__call__\u001b[39m(\u001b[38;5;28mself\u001b[39m, \u001b[38;5;241m*\u001b[39margs, \u001b[38;5;241m*\u001b[39m\u001b[38;5;241m*\u001b[39mkwargs):\n\u001b[1;32m   1135\u001b[0m \u001b[38;5;250m  \u001b[39m\u001b[38;5;124;03m\"\"\"Executes the wrapped function.\u001b[39;00m\n\u001b[1;32m   1136\u001b[0m \n\u001b[1;32m   1137\u001b[0m \u001b[38;5;124;03m  ConcreteFunctions have two signatures:\u001b[39;00m\n\u001b[0;32m   (...)\u001b[0m\n\u001b[1;32m   1182\u001b[0m \u001b[38;5;124;03m    TypeError: If the arguments do not match the function's signature.\u001b[39;00m\n\u001b[1;32m   1183\u001b[0m \u001b[38;5;124;03m  \"\"\"\u001b[39;00m\n\u001b[0;32m-> 1184\u001b[0m   \u001b[38;5;28;01mreturn\u001b[39;00m \u001b[38;5;28;43mself\u001b[39;49m\u001b[38;5;241;43m.\u001b[39;49m\u001b[43m_call_impl\u001b[49m\u001b[43m(\u001b[49m\u001b[43margs\u001b[49m\u001b[43m,\u001b[49m\u001b[43m \u001b[49m\u001b[43mkwargs\u001b[49m\u001b[43m)\u001b[49m\n",
      "File \u001b[0;32m~/opt/anaconda3/envs/SeSAC/lib/python3.9/site-packages/tensorflow/python/eager/wrap_function.py:243\u001b[0m, in \u001b[0;36mWrappedFunction._call_impl\u001b[0;34m(self, args, kwargs)\u001b[0m\n\u001b[1;32m    241\u001b[0m   \u001b[38;5;28;01mreturn\u001b[39;00m \u001b[38;5;28mself\u001b[39m\u001b[38;5;241m.\u001b[39m_call_flat(args, \u001b[38;5;28mself\u001b[39m\u001b[38;5;241m.\u001b[39mcaptured_inputs)\n\u001b[1;32m    242\u001b[0m \u001b[38;5;28;01melse\u001b[39;00m:\n\u001b[0;32m--> 243\u001b[0m   \u001b[38;5;28;01mreturn\u001b[39;00m \u001b[38;5;28;43msuper\u001b[39;49m\u001b[43m(\u001b[49m\u001b[43mWrappedFunction\u001b[49m\u001b[43m,\u001b[49m\u001b[43m \u001b[49m\u001b[38;5;28;43mself\u001b[39;49m\u001b[43m)\u001b[49m\u001b[38;5;241;43m.\u001b[39;49m\u001b[43m_call_impl\u001b[49m\u001b[43m(\u001b[49m\u001b[43margs\u001b[49m\u001b[43m,\u001b[49m\u001b[43m \u001b[49m\u001b[43mkwargs\u001b[49m\u001b[43m)\u001b[49m\n",
      "File \u001b[0;32m~/opt/anaconda3/envs/SeSAC/lib/python3.9/site-packages/tensorflow/python/eager/polymorphic_function/monomorphic_function.py:1200\u001b[0m, in \u001b[0;36mConcreteFunction._call_impl\u001b[0;34m(self, args, kwargs)\u001b[0m\n\u001b[1;32m   1197\u001b[0m     \u001b[38;5;28;01mexcept\u001b[39;00m \u001b[38;5;167;01mTypeError\u001b[39;00m:\n\u001b[1;32m   1198\u001b[0m       \u001b[38;5;28;01mraise\u001b[39;00m structured_err\n\u001b[0;32m-> 1200\u001b[0m \u001b[38;5;28;01mreturn\u001b[39;00m \u001b[38;5;28;43mself\u001b[39;49m\u001b[38;5;241;43m.\u001b[39;49m\u001b[43m_call_with_flat_signature\u001b[49m\u001b[43m(\u001b[49m\u001b[43margs\u001b[49m\u001b[43m,\u001b[49m\u001b[43m \u001b[49m\u001b[43mkwargs\u001b[49m\u001b[43m)\u001b[49m\n",
      "File \u001b[0;32m~/opt/anaconda3/envs/SeSAC/lib/python3.9/site-packages/tensorflow/python/eager/polymorphic_function/monomorphic_function.py:1252\u001b[0m, in \u001b[0;36mConcreteFunction._call_with_flat_signature\u001b[0;34m(self, args, kwargs)\u001b[0m\n\u001b[1;32m   1247\u001b[0m   \u001b[38;5;28;01mif\u001b[39;00m \u001b[38;5;129;01mnot\u001b[39;00m \u001b[38;5;28misinstance\u001b[39m(\n\u001b[1;32m   1248\u001b[0m       arg, (ops\u001b[38;5;241m.\u001b[39mTensor, resource_variable_ops\u001b[38;5;241m.\u001b[39mBaseResourceVariable)):\n\u001b[1;32m   1249\u001b[0m     \u001b[38;5;28;01mraise\u001b[39;00m \u001b[38;5;167;01mTypeError\u001b[39;00m(\u001b[38;5;124mf\u001b[39m\u001b[38;5;124m\"\u001b[39m\u001b[38;5;132;01m{\u001b[39;00m\u001b[38;5;28mself\u001b[39m\u001b[38;5;241m.\u001b[39m_flat_signature_summary()\u001b[38;5;132;01m}\u001b[39;00m\u001b[38;5;124m: expected argument \u001b[39m\u001b[38;5;124m\"\u001b[39m\n\u001b[1;32m   1250\u001b[0m                     \u001b[38;5;124mf\u001b[39m\u001b[38;5;124m\"\u001b[39m\u001b[38;5;124m#\u001b[39m\u001b[38;5;132;01m{\u001b[39;00mi\u001b[38;5;132;01m}\u001b[39;00m\u001b[38;5;124m(zero-based) to be a Tensor; \u001b[39m\u001b[38;5;124m\"\u001b[39m\n\u001b[1;32m   1251\u001b[0m                     \u001b[38;5;124mf\u001b[39m\u001b[38;5;124m\"\u001b[39m\u001b[38;5;124mgot \u001b[39m\u001b[38;5;132;01m{\u001b[39;00m\u001b[38;5;28mtype\u001b[39m(arg)\u001b[38;5;241m.\u001b[39m\u001b[38;5;18m__name__\u001b[39m\u001b[38;5;132;01m}\u001b[39;00m\u001b[38;5;124m (\u001b[39m\u001b[38;5;132;01m{\u001b[39;00marg\u001b[38;5;132;01m}\u001b[39;00m\u001b[38;5;124m).\u001b[39m\u001b[38;5;124m\"\u001b[39m)\n\u001b[0;32m-> 1252\u001b[0m \u001b[38;5;28;01mreturn\u001b[39;00m \u001b[38;5;28;43mself\u001b[39;49m\u001b[38;5;241;43m.\u001b[39;49m\u001b[43m_call_flat\u001b[49m\u001b[43m(\u001b[49m\u001b[43margs\u001b[49m\u001b[43m,\u001b[49m\u001b[43m \u001b[49m\u001b[38;5;28;43mself\u001b[39;49m\u001b[38;5;241;43m.\u001b[39;49m\u001b[43mcaptured_inputs\u001b[49m\u001b[43m)\u001b[49m\n",
      "File \u001b[0;32m~/opt/anaconda3/envs/SeSAC/lib/python3.9/site-packages/tensorflow/python/eager/polymorphic_function/monomorphic_function.py:1349\u001b[0m, in \u001b[0;36mConcreteFunction._call_flat\u001b[0;34m(self, args, captured_inputs)\u001b[0m\n\u001b[1;32m   1345\u001b[0m possible_gradient_type \u001b[38;5;241m=\u001b[39m gradients_util\u001b[38;5;241m.\u001b[39mPossibleTapeGradientTypes(args)\n\u001b[1;32m   1346\u001b[0m \u001b[38;5;28;01mif\u001b[39;00m (possible_gradient_type \u001b[38;5;241m==\u001b[39m gradients_util\u001b[38;5;241m.\u001b[39mPOSSIBLE_GRADIENT_TYPES_NONE\n\u001b[1;32m   1347\u001b[0m     \u001b[38;5;129;01mand\u001b[39;00m executing_eagerly):\n\u001b[1;32m   1348\u001b[0m   \u001b[38;5;66;03m# No tape is watching; skip to running the function.\u001b[39;00m\n\u001b[0;32m-> 1349\u001b[0m   \u001b[38;5;28;01mreturn\u001b[39;00m \u001b[38;5;28mself\u001b[39m\u001b[38;5;241m.\u001b[39m_build_call_outputs(\u001b[38;5;28;43mself\u001b[39;49m\u001b[38;5;241;43m.\u001b[39;49m\u001b[43m_inference_function\u001b[49m\u001b[43m(\u001b[49m\u001b[38;5;241;43m*\u001b[39;49m\u001b[43margs\u001b[49m\u001b[43m)\u001b[49m)\n\u001b[1;32m   1350\u001b[0m forward_backward \u001b[38;5;241m=\u001b[39m \u001b[38;5;28mself\u001b[39m\u001b[38;5;241m.\u001b[39m_select_forward_and_backward_functions(\n\u001b[1;32m   1351\u001b[0m     args,\n\u001b[1;32m   1352\u001b[0m     possible_gradient_type,\n\u001b[1;32m   1353\u001b[0m     executing_eagerly)\n\u001b[1;32m   1354\u001b[0m forward_function, args_with_tangents \u001b[38;5;241m=\u001b[39m forward_backward\u001b[38;5;241m.\u001b[39mforward()\n",
      "File \u001b[0;32m~/opt/anaconda3/envs/SeSAC/lib/python3.9/site-packages/tensorflow/python/eager/polymorphic_function/atomic_function.py:196\u001b[0m, in \u001b[0;36mAtomicFunction.__call__\u001b[0;34m(self, *args)\u001b[0m\n\u001b[1;32m    194\u001b[0m \u001b[38;5;28;01mwith\u001b[39;00m record\u001b[38;5;241m.\u001b[39mstop_recording():\n\u001b[1;32m    195\u001b[0m   \u001b[38;5;28;01mif\u001b[39;00m \u001b[38;5;28mself\u001b[39m\u001b[38;5;241m.\u001b[39m_bound_context\u001b[38;5;241m.\u001b[39mexecuting_eagerly():\n\u001b[0;32m--> 196\u001b[0m     outputs \u001b[38;5;241m=\u001b[39m \u001b[38;5;28;43mself\u001b[39;49m\u001b[38;5;241;43m.\u001b[39;49m\u001b[43m_bound_context\u001b[49m\u001b[38;5;241;43m.\u001b[39;49m\u001b[43mcall_function\u001b[49m\u001b[43m(\u001b[49m\n\u001b[1;32m    197\u001b[0m \u001b[43m        \u001b[49m\u001b[38;5;28;43mself\u001b[39;49m\u001b[38;5;241;43m.\u001b[39;49m\u001b[43mname\u001b[49m\u001b[43m,\u001b[49m\n\u001b[1;32m    198\u001b[0m \u001b[43m        \u001b[49m\u001b[38;5;28;43mlist\u001b[39;49m\u001b[43m(\u001b[49m\u001b[43margs\u001b[49m\u001b[43m)\u001b[49m\u001b[43m,\u001b[49m\n\u001b[1;32m    199\u001b[0m \u001b[43m        \u001b[49m\u001b[38;5;28;43mlen\u001b[39;49m\u001b[43m(\u001b[49m\u001b[38;5;28;43mself\u001b[39;49m\u001b[38;5;241;43m.\u001b[39;49m\u001b[43mfunction_type\u001b[49m\u001b[38;5;241;43m.\u001b[39;49m\u001b[43mflat_outputs\u001b[49m\u001b[43m)\u001b[49m\u001b[43m,\u001b[49m\n\u001b[1;32m    200\u001b[0m \u001b[43m    \u001b[49m\u001b[43m)\u001b[49m\n\u001b[1;32m    201\u001b[0m   \u001b[38;5;28;01melse\u001b[39;00m:\n\u001b[1;32m    202\u001b[0m     outputs \u001b[38;5;241m=\u001b[39m make_call_op_in_graph(\u001b[38;5;28mself\u001b[39m, \u001b[38;5;28mlist\u001b[39m(args))\n",
      "File \u001b[0;32m~/opt/anaconda3/envs/SeSAC/lib/python3.9/site-packages/tensorflow/python/eager/context.py:1457\u001b[0m, in \u001b[0;36mContext.call_function\u001b[0;34m(self, name, tensor_inputs, num_outputs)\u001b[0m\n\u001b[1;32m   1455\u001b[0m cancellation_context \u001b[38;5;241m=\u001b[39m cancellation\u001b[38;5;241m.\u001b[39mcontext()\n\u001b[1;32m   1456\u001b[0m \u001b[38;5;28;01mif\u001b[39;00m cancellation_context \u001b[38;5;129;01mis\u001b[39;00m \u001b[38;5;28;01mNone\u001b[39;00m:\n\u001b[0;32m-> 1457\u001b[0m   outputs \u001b[38;5;241m=\u001b[39m \u001b[43mexecute\u001b[49m\u001b[38;5;241;43m.\u001b[39;49m\u001b[43mexecute\u001b[49m\u001b[43m(\u001b[49m\n\u001b[1;32m   1458\u001b[0m \u001b[43m      \u001b[49m\u001b[43mname\u001b[49m\u001b[38;5;241;43m.\u001b[39;49m\u001b[43mdecode\u001b[49m\u001b[43m(\u001b[49m\u001b[38;5;124;43m\"\u001b[39;49m\u001b[38;5;124;43mutf-8\u001b[39;49m\u001b[38;5;124;43m\"\u001b[39;49m\u001b[43m)\u001b[49m\u001b[43m,\u001b[49m\n\u001b[1;32m   1459\u001b[0m \u001b[43m      \u001b[49m\u001b[43mnum_outputs\u001b[49m\u001b[38;5;241;43m=\u001b[39;49m\u001b[43mnum_outputs\u001b[49m\u001b[43m,\u001b[49m\n\u001b[1;32m   1460\u001b[0m \u001b[43m      \u001b[49m\u001b[43minputs\u001b[49m\u001b[38;5;241;43m=\u001b[39;49m\u001b[43mtensor_inputs\u001b[49m\u001b[43m,\u001b[49m\n\u001b[1;32m   1461\u001b[0m \u001b[43m      \u001b[49m\u001b[43mattrs\u001b[49m\u001b[38;5;241;43m=\u001b[39;49m\u001b[43mattrs\u001b[49m\u001b[43m,\u001b[49m\n\u001b[1;32m   1462\u001b[0m \u001b[43m      \u001b[49m\u001b[43mctx\u001b[49m\u001b[38;5;241;43m=\u001b[39;49m\u001b[38;5;28;43mself\u001b[39;49m\u001b[43m,\u001b[49m\n\u001b[1;32m   1463\u001b[0m \u001b[43m  \u001b[49m\u001b[43m)\u001b[49m\n\u001b[1;32m   1464\u001b[0m \u001b[38;5;28;01melse\u001b[39;00m:\n\u001b[1;32m   1465\u001b[0m   outputs \u001b[38;5;241m=\u001b[39m execute\u001b[38;5;241m.\u001b[39mexecute_with_cancellation(\n\u001b[1;32m   1466\u001b[0m       name\u001b[38;5;241m.\u001b[39mdecode(\u001b[38;5;124m\"\u001b[39m\u001b[38;5;124mutf-8\u001b[39m\u001b[38;5;124m\"\u001b[39m),\n\u001b[1;32m   1467\u001b[0m       num_outputs\u001b[38;5;241m=\u001b[39mnum_outputs,\n\u001b[0;32m   (...)\u001b[0m\n\u001b[1;32m   1471\u001b[0m       cancellation_manager\u001b[38;5;241m=\u001b[39mcancellation_context,\n\u001b[1;32m   1472\u001b[0m   )\n",
      "File \u001b[0;32m~/opt/anaconda3/envs/SeSAC/lib/python3.9/site-packages/tensorflow/python/eager/execute.py:53\u001b[0m, in \u001b[0;36mquick_execute\u001b[0;34m(op_name, num_outputs, inputs, attrs, ctx, name)\u001b[0m\n\u001b[1;32m     51\u001b[0m \u001b[38;5;28;01mtry\u001b[39;00m:\n\u001b[1;32m     52\u001b[0m   ctx\u001b[38;5;241m.\u001b[39mensure_initialized()\n\u001b[0;32m---> 53\u001b[0m   tensors \u001b[38;5;241m=\u001b[39m \u001b[43mpywrap_tfe\u001b[49m\u001b[38;5;241;43m.\u001b[39;49m\u001b[43mTFE_Py_Execute\u001b[49m\u001b[43m(\u001b[49m\u001b[43mctx\u001b[49m\u001b[38;5;241;43m.\u001b[39;49m\u001b[43m_handle\u001b[49m\u001b[43m,\u001b[49m\u001b[43m \u001b[49m\u001b[43mdevice_name\u001b[49m\u001b[43m,\u001b[49m\u001b[43m \u001b[49m\u001b[43mop_name\u001b[49m\u001b[43m,\u001b[49m\n\u001b[1;32m     54\u001b[0m \u001b[43m                                      \u001b[49m\u001b[43minputs\u001b[49m\u001b[43m,\u001b[49m\u001b[43m \u001b[49m\u001b[43mattrs\u001b[49m\u001b[43m,\u001b[49m\u001b[43m \u001b[49m\u001b[43mnum_outputs\u001b[49m\u001b[43m)\u001b[49m\n\u001b[1;32m     55\u001b[0m \u001b[38;5;28;01mexcept\u001b[39;00m core\u001b[38;5;241m.\u001b[39m_NotOkStatusException \u001b[38;5;28;01mas\u001b[39;00m e:\n\u001b[1;32m     56\u001b[0m   \u001b[38;5;28;01mif\u001b[39;00m name \u001b[38;5;129;01mis\u001b[39;00m \u001b[38;5;129;01mnot\u001b[39;00m \u001b[38;5;28;01mNone\u001b[39;00m:\n",
      "\u001b[0;31mFailedPreconditionError\u001b[0m: Graph execution error:\n\nDetected at node 'encoder/dense/bias/read' defined at (most recent call last):\n    File \"/Users/kimberlyjojohirn/opt/anaconda3/envs/SeSAC/lib/python3.9/runpy.py\", line 197, in _run_module_as_main\n      return _run_code(code, main_globals, None,\n    File \"/Users/kimberlyjojohirn/opt/anaconda3/envs/SeSAC/lib/python3.9/runpy.py\", line 87, in _run_code\n      exec(code, run_globals)\n    File \"/Users/kimberlyjojohirn/opt/anaconda3/envs/SeSAC/lib/python3.9/site-packages/ipykernel_launcher.py\", line 18, in <module>\n      app.launch_new_instance()\n    File \"/Users/kimberlyjojohirn/opt/anaconda3/envs/SeSAC/lib/python3.9/site-packages/traitlets/config/application.py\", line 1075, in launch_instance\n      app.start()\n    File \"/Users/kimberlyjojohirn/opt/anaconda3/envs/SeSAC/lib/python3.9/site-packages/ipykernel/kernelapp.py\", line 739, in start\n      self.io_loop.start()\n    File \"/Users/kimberlyjojohirn/opt/anaconda3/envs/SeSAC/lib/python3.9/site-packages/tornado/platform/asyncio.py\", line 211, in start\n      self.asyncio_loop.run_forever()\n    File \"/Users/kimberlyjojohirn/opt/anaconda3/envs/SeSAC/lib/python3.9/asyncio/base_events.py\", line 601, in run_forever\n      self._run_once()\n    File \"/Users/kimberlyjojohirn/opt/anaconda3/envs/SeSAC/lib/python3.9/asyncio/base_events.py\", line 1905, in _run_once\n      handle._run()\n    File \"/Users/kimberlyjojohirn/opt/anaconda3/envs/SeSAC/lib/python3.9/asyncio/events.py\", line 80, in _run\n      self._context.run(self._callback, *self._args)\n    File \"/Users/kimberlyjojohirn/opt/anaconda3/envs/SeSAC/lib/python3.9/site-packages/ipykernel/kernelbase.py\", line 516, in dispatch_queue\n      await self.process_one()\n    File \"/Users/kimberlyjojohirn/opt/anaconda3/envs/SeSAC/lib/python3.9/site-packages/ipykernel/kernelbase.py\", line 505, in process_one\n      await dispatch(*args)\n    File \"/Users/kimberlyjojohirn/opt/anaconda3/envs/SeSAC/lib/python3.9/site-packages/ipykernel/kernelbase.py\", line 397, in dispatch_shell\n      await result\n    File \"/Users/kimberlyjojohirn/opt/anaconda3/envs/SeSAC/lib/python3.9/site-packages/ipykernel/ipkernel.py\", line 368, in execute_request\n      await super().execute_request(stream, ident, parent)\n    File \"/Users/kimberlyjojohirn/opt/anaconda3/envs/SeSAC/lib/python3.9/site-packages/ipykernel/kernelbase.py\", line 752, in execute_request\n      reply_content = await reply_content\n    File \"/Users/kimberlyjojohirn/opt/anaconda3/envs/SeSAC/lib/python3.9/site-packages/ipykernel/ipkernel.py\", line 455, in do_execute\n      res = shell.run_cell(\n    File \"/Users/kimberlyjojohirn/opt/anaconda3/envs/SeSAC/lib/python3.9/site-packages/ipykernel/zmqshell.py\", line 577, in run_cell\n      return super().run_cell(*args, **kwargs)\n    File \"/Users/kimberlyjojohirn/opt/anaconda3/envs/SeSAC/lib/python3.9/site-packages/IPython/core/interactiveshell.py\", line 3048, in run_cell\n      result = self._run_cell(\n    File \"/Users/kimberlyjojohirn/opt/anaconda3/envs/SeSAC/lib/python3.9/site-packages/IPython/core/interactiveshell.py\", line 3103, in _run_cell\n      result = runner(coro)\n    File \"/Users/kimberlyjojohirn/opt/anaconda3/envs/SeSAC/lib/python3.9/site-packages/IPython/core/async_helpers.py\", line 129, in _pseudo_sync_runner\n      coro.send(None)\n    File \"/Users/kimberlyjojohirn/opt/anaconda3/envs/SeSAC/lib/python3.9/site-packages/IPython/core/interactiveshell.py\", line 3308, in run_cell_async\n      has_raised = await self.run_ast_nodes(code_ast.body, cell_name,\n    File \"/Users/kimberlyjojohirn/opt/anaconda3/envs/SeSAC/lib/python3.9/site-packages/IPython/core/interactiveshell.py\", line 3490, in run_ast_nodes\n      if await self.run_code(code, result, async_=asy):\n    File \"/Users/kimberlyjojohirn/opt/anaconda3/envs/SeSAC/lib/python3.9/site-packages/IPython/core/interactiveshell.py\", line 3550, in run_code\n      exec(code_obj, self.user_global_ns, self.user_ns)\n    File \"/var/folders/g9/2k1291915hxbg8w8ghhmgv3h0000gn/T/ipykernel_73433/201715246.py\", line 8, in <module>\n      result = analyze_pitch_stability(filepath)\n    File \"/var/folders/g9/2k1291915hxbg8w8ghhmgv3h0000gn/T/ipykernel_73433/3437216844.py\", line 48, in analyze_pitch_stability\n      pitch, confidence = estimate_pitch(audio)\n    File \"/var/folders/g9/2k1291915hxbg8w8ghhmgv3h0000gn/T/ipykernel_73433/3437216844.py\", line 19, in estimate_pitch\n      model = hub.load(\"https://tfhub.dev/google/spice/2\")\n    File \"/Users/kimberlyjojohirn/opt/anaconda3/envs/SeSAC/lib/python3.9/site-packages/tensorflow_hub/module_v2.py\", line 120, in load\n      obj = tf.compat.v1.saved_model.load_v2(module_path, tags=tags)\nNode: 'encoder/dense/bias/read'\nDetected at node 'encoder/dense/bias/read' defined at (most recent call last):\n    File \"/Users/kimberlyjojohirn/opt/anaconda3/envs/SeSAC/lib/python3.9/runpy.py\", line 197, in _run_module_as_main\n      return _run_code(code, main_globals, None,\n    File \"/Users/kimberlyjojohirn/opt/anaconda3/envs/SeSAC/lib/python3.9/runpy.py\", line 87, in _run_code\n      exec(code, run_globals)\n    File \"/Users/kimberlyjojohirn/opt/anaconda3/envs/SeSAC/lib/python3.9/site-packages/ipykernel_launcher.py\", line 18, in <module>\n      app.launch_new_instance()\n    File \"/Users/kimberlyjojohirn/opt/anaconda3/envs/SeSAC/lib/python3.9/site-packages/traitlets/config/application.py\", line 1075, in launch_instance\n      app.start()\n    File \"/Users/kimberlyjojohirn/opt/anaconda3/envs/SeSAC/lib/python3.9/site-packages/ipykernel/kernelapp.py\", line 739, in start\n      self.io_loop.start()\n    File \"/Users/kimberlyjojohirn/opt/anaconda3/envs/SeSAC/lib/python3.9/site-packages/tornado/platform/asyncio.py\", line 211, in start\n      self.asyncio_loop.run_forever()\n    File \"/Users/kimberlyjojohirn/opt/anaconda3/envs/SeSAC/lib/python3.9/asyncio/base_events.py\", line 601, in run_forever\n      self._run_once()\n    File \"/Users/kimberlyjojohirn/opt/anaconda3/envs/SeSAC/lib/python3.9/asyncio/base_events.py\", line 1905, in _run_once\n      handle._run()\n    File \"/Users/kimberlyjojohirn/opt/anaconda3/envs/SeSAC/lib/python3.9/asyncio/events.py\", line 80, in _run\n      self._context.run(self._callback, *self._args)\n    File \"/Users/kimberlyjojohirn/opt/anaconda3/envs/SeSAC/lib/python3.9/site-packages/ipykernel/kernelbase.py\", line 516, in dispatch_queue\n      await self.process_one()\n    File \"/Users/kimberlyjojohirn/opt/anaconda3/envs/SeSAC/lib/python3.9/site-packages/ipykernel/kernelbase.py\", line 505, in process_one\n      await dispatch(*args)\n    File \"/Users/kimberlyjojohirn/opt/anaconda3/envs/SeSAC/lib/python3.9/site-packages/ipykernel/kernelbase.py\", line 397, in dispatch_shell\n      await result\n    File \"/Users/kimberlyjojohirn/opt/anaconda3/envs/SeSAC/lib/python3.9/site-packages/ipykernel/ipkernel.py\", line 368, in execute_request\n      await super().execute_request(stream, ident, parent)\n    File \"/Users/kimberlyjojohirn/opt/anaconda3/envs/SeSAC/lib/python3.9/site-packages/ipykernel/kernelbase.py\", line 752, in execute_request\n      reply_content = await reply_content\n    File \"/Users/kimberlyjojohirn/opt/anaconda3/envs/SeSAC/lib/python3.9/site-packages/ipykernel/ipkernel.py\", line 455, in do_execute\n      res = shell.run_cell(\n    File \"/Users/kimberlyjojohirn/opt/anaconda3/envs/SeSAC/lib/python3.9/site-packages/ipykernel/zmqshell.py\", line 577, in run_cell\n      return super().run_cell(*args, **kwargs)\n    File \"/Users/kimberlyjojohirn/opt/anaconda3/envs/SeSAC/lib/python3.9/site-packages/IPython/core/interactiveshell.py\", line 3048, in run_cell\n      result = self._run_cell(\n    File \"/Users/kimberlyjojohirn/opt/anaconda3/envs/SeSAC/lib/python3.9/site-packages/IPython/core/interactiveshell.py\", line 3103, in _run_cell\n      result = runner(coro)\n    File \"/Users/kimberlyjojohirn/opt/anaconda3/envs/SeSAC/lib/python3.9/site-packages/IPython/core/async_helpers.py\", line 129, in _pseudo_sync_runner\n      coro.send(None)\n    File \"/Users/kimberlyjojohirn/opt/anaconda3/envs/SeSAC/lib/python3.9/site-packages/IPython/core/interactiveshell.py\", line 3308, in run_cell_async\n      has_raised = await self.run_ast_nodes(code_ast.body, cell_name,\n    File \"/Users/kimberlyjojohirn/opt/anaconda3/envs/SeSAC/lib/python3.9/site-packages/IPython/core/interactiveshell.py\", line 3490, in run_ast_nodes\n      if await self.run_code(code, result, async_=asy):\n    File \"/Users/kimberlyjojohirn/opt/anaconda3/envs/SeSAC/lib/python3.9/site-packages/IPython/core/interactiveshell.py\", line 3550, in run_code\n      exec(code_obj, self.user_global_ns, self.user_ns)\n    File \"/var/folders/g9/2k1291915hxbg8w8ghhmgv3h0000gn/T/ipykernel_73433/201715246.py\", line 8, in <module>\n      result = analyze_pitch_stability(filepath)\n    File \"/var/folders/g9/2k1291915hxbg8w8ghhmgv3h0000gn/T/ipykernel_73433/3437216844.py\", line 48, in analyze_pitch_stability\n      pitch, confidence = estimate_pitch(audio)\n    File \"/var/folders/g9/2k1291915hxbg8w8ghhmgv3h0000gn/T/ipykernel_73433/3437216844.py\", line 19, in estimate_pitch\n      model = hub.load(\"https://tfhub.dev/google/spice/2\")\n    File \"/Users/kimberlyjojohirn/opt/anaconda3/envs/SeSAC/lib/python3.9/site-packages/tensorflow_hub/module_v2.py\", line 120, in load\n      obj = tf.compat.v1.saved_model.load_v2(module_path, tags=tags)\nNode: 'encoder/dense/bias/read'\n2 root error(s) found.\n  (0) FAILED_PRECONDITION:  Attempting to use uninitialized value encoder/dense/bias\n\t [[{{node encoder/dense/bias/read}}]]\n\t [[stft/frame/Reshape_4/_24]]\n  (1) FAILED_PRECONDITION:  Attempting to use uninitialized value encoder/dense/bias\n\t [[{{node encoder/dense/bias/read}}]]\n0 successful operations.\n0 derived errors ignored. [Op:__inference_pruned_2809]"
     ]
    }
   ],
   "source": [
    "# 오디오 파일 분석 실행\n",
    "os.chdir(\"/Users/kimberlyjojohirn/Downloads/SeSAC/project/spice\")\n",
    "filepath = \"0_아/e_1_1.wav\"\n",
    "\n",
    "# 파일 존재 확인\n",
    "if os.path.exists(filepath):\n",
    "    print(f\"파일을 찾았습니다: {filepath}\")\n",
    "    result = analyze_pitch_stability(filepath)\n",
    "    print(f\"최종 안정성 점수: {result:.2%}\")\n",
    "else:\n",
    "    print(f\"파일을 찾을 수 없습니다: {filepath}\")\n",
    "    print(\"현재 디렉토리:\", os.getcwd())\n",
    "    print(\"spice 폴더 내용:\")\n",
    "    if os.path.exists(\"project/spice\"):\n",
    "        for item in os.listdir(\"project/spice\"):\n",
    "            print(f\"  {item}\")\n",
    "    else:\n",
    "        print(\"project/spice 폴더가 존재하지 않습니다.\")"
   ]
  }
 ],
 "metadata": {
  "kernelspec": {
   "display_name": "SeSAC",
   "language": "python",
   "name": "sesac"
  },
  "language_info": {
   "codemirror_mode": {
    "name": "ipython",
    "version": 3
   },
   "file_extension": ".py",
   "mimetype": "text/x-python",
   "name": "python",
   "nbconvert_exporter": "python",
   "pygments_lexer": "ipython3",
   "version": "3.9.23"
  }
 },
 "nbformat": 4,
 "nbformat_minor": 5
}
