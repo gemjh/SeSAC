{
 "cells": [
  {
   "cell_type": "markdown",
   "id": "529fe361-d3a9-46e0-a377-ffe1b0bcc080",
   "metadata": {},
   "source": [
    "# Streamlit 개요"
   ]
  },
  {
   "cell_type": "markdown",
   "id": "7120c921-39de-4233-85c1-be738bee6d32",
   "metadata": {},
   "source": [
    "## 1. Streamlit 장단점\n",
    "- 웹 프로그래밍은 클라이언트와 서버 양쪽을 코딩해야 하는데 스트림릿의 가장 큰 장점은 클라이언트와 서버 코딩을, 파이썬 하나로 할 수 있다는 점\n",
    "- Frontend 코딩의 화면 요소 만들기, 배치와 스타일링 등을 간단하게 할 수 있음\n",
    "- Backend 코딩에서의 URL, 처리, HTML 이나 API 응답 등의 처리가 간단함\n",
    "- 클라이언트와 서버간 비동기 연동에 대한 코딩이 불필요\n",
    "- 개발 후에 상용서버에 배포하는 것도 간편\n",
    "- (단점) 속도가 느리고, 일반 웹 프로그래밍을 하기에는 기능이 충분하지 않음"
   ]
  },
  {
   "cell_type": "markdown",
   "id": "78f25064-7774-4f39-a4e2-02f392656d62",
   "metadata": {},
   "source": [
    "## 2. Streamlit 공식 문서\n",
    "- https://streamlit.io\n",
    "- https://docs.streamlit.io"
   ]
  },
  {
   "cell_type": "markdown",
   "id": "8d40b4bc-2ea4-4efb-b934-a38d9661a2a8",
   "metadata": {},
   "source": [
    "## 3. 설치 가이드"
   ]
  },
  {
   "cell_type": "markdown",
   "id": "1ee0fe03-6632-4e6f-a350-9f8909424fd3",
   "metadata": {},
   "source": [
    "```\n",
    "1. pip install streamlit\n",
    "2. Pycharm 또는 Visual Studio Code 설치\n",
    "3. 실습 폴더로 가서 app.py 작성\n",
    "4. New terminal에서 아래 명령어 실행\n",
    "streamlit run app.py \n",
    "\n",
    "또는 jupyter notebook에서 아래 명령어 실행\n",
    "!streamlit run app.py\n",
    "```"
   ]
  },
  {
   "cell_type": "markdown",
   "id": "e1c44f67-1ba5-4a08-b38e-8e3c7ab2b114",
   "metadata": {},
   "source": [
    "# Main concepts\n",
    "- https://docs.streamlit.io/get-started/fundamentals/main-concepts"
   ]
  },
  {
   "cell_type": "markdown",
   "id": "9369e129-1a98-45d3-acb8-a25ce2767092",
   "metadata": {},
   "source": [
    "## 1. Display data"
   ]
  },
  {
   "cell_type": "markdown",
   "id": "3a72b7ac-d1c5-4db8-8852-3b67550a7648",
   "metadata": {},
   "source": [
    "### (1) magic command 지원\n",
    "- st.write()를 호출하지 않고도 앱에 쓸 수 있음\n",
    "- **magic_cmd.py** 참고"
   ]
  },
  {
   "cell_type": "markdown",
   "id": "0b98cbfb-6660-48c7-923f-af09dc8598f3",
   "metadata": {},
   "source": [
    "## (2) data frame 쓰기\n",
    "- magic command 외에도 st.write()는 Streamlit의 \"스위스 아미 나이프\"\n",
    "- 거의 모든 것을 st.write()에 전달할 수 있음 : 텍스트, 데이터, Matplotlib 그래프, Altair 차트 등\n",
    "- **dataframe.py** 참고"
   ]
  },
  {
   "cell_type": "markdown",
   "id": "e5671ef2-c10d-49d9-9e48-17b9db48c011",
   "metadata": {},
   "source": [
    "- 데이터를 표시하는 데 사용할 수 있는 다른 함수들도 있음 (예를 들어 st.dataframe()과 st.table())\n",
    "- 이러한 함수들은 사용자 정의할 수 있는 추가 인수를 전달\n",
    "- **dataframe2.py** 참고"
   ]
  },
  {
   "cell_type": "markdown",
   "id": "3a9480f6-8c56-483b-92cb-fa787238bfc9",
   "metadata": {},
   "source": [
    "## (3) chart와 map 그리기\n",
    "- **chart_map.py** 참고"
   ]
  },
  {
   "cell_type": "markdown",
   "id": "a49d2c4a-9fed-409f-86d9-5dc99fdda4a4",
   "metadata": {},
   "source": [
    "## 2. Widget"
   ]
  },
  {
   "cell_type": "markdown",
   "id": "2a9ed650-6cbe-42f2-8507-3abfdc2ddd8c",
   "metadata": {},
   "source": [
    "- 데이터나 모델을 탐색하고자할 때 Widget을 변수처럼 사용할 수 있음\n",
    "- 키가 있는 모든 위젯은 자동으로 세션 상태에 추가\n",
    "- **widgets.py** 참고"
   ]
  },
  {
   "cell_type": "markdown",
   "id": "5bac0c06-8bcd-4ae1-a23c-b92a0c293413",
   "metadata": {},
   "source": [
    "## 3. Layout"
   ]
  },
  {
   "cell_type": "markdown",
   "id": "c100f080-aff7-43dc-8ac6-801884eeff70",
   "metadata": {},
   "source": [
    "- st.sidebar를 사용하여 위젯을 왼쪽 패널 사이드바에 쉽게 구성할 수 있음\n",
    "- st.sidebar에 전달된 각 요소는 왼쪽에 고정되어 있어 사용자가 앱의 내용에 집중할 수 있으면서 동시에 UI 컨트롤에도 액세스\n",
    "- **layout1.py** 참고"
   ]
  },
  {
   "cell_type": "markdown",
   "id": "e30c8c70-3d7c-40cd-ae79-3b6e95ddcc2a",
   "metadata": {},
   "source": [
    "- st.columns를 사용하면 위젯을 옆으로 나란히 배치할 수 있고, st.expander를 사용하면 큰 콘텐츠를 숨겨 공간을 절약할 수 있음\n",
    "- **layout2.py** 참고"
   ]
  },
  {
   "cell_type": "markdown",
   "id": "6dd6b082-6c73-4346-a679-2b9721570268",
   "metadata": {},
   "source": [
    "- 앱에 긴 실행 시간이 걸리는 계산을 추가할 때, st.progress()를 사용하여 실시간으로 상태를 표시할 수 있음\n",
    "- **progress.py** 참고"
   ]
  }
 ],
 "metadata": {
  "kernelspec": {
   "display_name": "Python 3 (ipykernel)",
   "language": "python",
   "name": "python3"
  },
  "language_info": {
   "codemirror_mode": {
    "name": "ipython",
    "version": 3
   },
   "file_extension": ".py",
   "mimetype": "text/x-python",
   "name": "python",
   "nbconvert_exporter": "python",
   "pygments_lexer": "ipython3",
   "version": "3.11.5"
  }
 },
 "nbformat": 4,
 "nbformat_minor": 5
}
